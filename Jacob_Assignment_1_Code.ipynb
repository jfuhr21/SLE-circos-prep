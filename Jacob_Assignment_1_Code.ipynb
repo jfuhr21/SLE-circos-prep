{
  "nbformat": 4,
  "nbformat_minor": 0,
  "metadata": {
    "colab": {
      "name": "Assignment 1",
      "provenance": []
    },
    "kernelspec": {
      "name": "python3",
      "display_name": "Python 3"
    }
  },
  "cells": [
    {
      "cell_type": "markdown",
      "metadata": {
        "id": "d9qPsxz-RAM4"
      },
      "source": [
        "Import Line"
      ]
    },
    {
      "cell_type": "code",
      "metadata": {
        "id": "GCKI_VHOSjYJ"
      },
      "source": [
        "import re, csv"
      ],
      "execution_count": null,
      "outputs": []
    },
    {
      "cell_type": "markdown",
      "metadata": {
        "id": "I5WFbPw1RG6F"
      },
      "source": [
        "Definition of the Colour Function"
      ]
    },
    {
      "cell_type": "code",
      "metadata": {
        "id": "xqsZNFhlwf_i"
      },
      "source": [
        "def colour(numb):\n",
        "  if numb%14 == 0:\n",
        "    return \"white\"\n",
        "  elif numb%14 == 1:\n",
        "    return \"red\"\n",
        "  elif numb%14 == 2:\n",
        "    return \"yellow\"\n",
        "  elif numb%14 == 3:\n",
        "    return \"green\"\n",
        "  elif numb%14 == 4:\n",
        "    return \"blue\"\n",
        "  elif numb%14 == 5:\n",
        "    return \"purple\"\n",
        "  elif numb%14 == 6:\n",
        "    return \"grey\"\n",
        "  elif numb%14 == 7:\n",
        "    return \"vvlred\"\n",
        "  elif numb%14 == 8:\n",
        "    return \"orange\"\n",
        "  elif numb%14 == 9:\n",
        "    return \"vvdpyellow\"\n",
        "  elif numb%14 == 10:\n",
        "    return \"vvlgreen\"\n",
        "  elif numb%14 == 11:\n",
        "    return \"vvdpblue\"\n",
        "  elif numb%14 == 12:\n",
        "    return \"vvlpurple\"\n",
        "  elif numb%14 == 13:\n",
        "    return \"black\"\n",
        "  else:\n",
        "    return \"error\""
      ],
      "execution_count": null,
      "outputs": []
    },
    {
      "cell_type": "markdown",
      "metadata": {
        "id": "xFlIrGCGRQFM"
      },
      "source": [
        "Access of .csv File"
      ]
    },
    {
      "cell_type": "code",
      "metadata": {
        "id": "NrwGE6n8ooUy",
        "colab": {
          "base_uri": "https://localhost:8080/"
        },
        "outputId": "53fe7184-d581-44f4-f853-896bf877fa93"
      },
      "source": [
        "data = input(\"Input data .csv file name or path to file.\\t\")\n",
        "datacsv = open(data, \"r\")\n",
        "reader = csv.reader(datacsv, delimiter=',') #opens up and sets up csv\n",
        "\n",
        "ncol = len(next(reader)) #counts number of columns in the csv\n",
        "rawdict = {} #dictionary for basic input\n",
        "#keys are initial, unseperated variable\n",
        "#values is a list of data from each column\n",
        "\n",
        "for row in reader:\n",
        "  check = True\n",
        "  addcol = 0\n",
        "  if isinstance(row[0],str):\n",
        "    hold = row[0].lower() #makes all lowercase\n",
        "    hold = re.sub(\"_\", \" \", hold) #replaces underscores with space\n",
        "    rawdict[hold] = []\n",
        "  else:\n",
        "    rawdict[row[0]] = []\n",
        "  while check == True:\n",
        "    addcol +=1\n",
        "    if addcol+1 == ncol:\n",
        "      check = False\n",
        "    rawdict[row[0]].append(row[addcol])\n",
        "datacsv.close()\n",
        "\n",
        "firstcol = [] #list of values in first column\n",
        "for i in range(0, len(rawdict)):\n",
        "  firstcol.append(list(rawdict.keys())[i])\n",
        "\n",
        "\n",
        "rawaxes = {} #dictionary of axes\n",
        "#keys are numbered axes and values are the first overarching category (like year)\n",
        "axesnum = 1 #counts number of axes\n",
        "for each in firstcol:\n",
        "  term = each.split('-') #splits term into overarching and then sub\n",
        "  if (term[0] in rawaxes.values()) == False:\n",
        "    rawaxes['axes'+str(axesnum)] = term[0]\n",
        "    axesnum+=1\n",
        "\n",
        "numdivs = int(input(\"Please input the integer value of how many subdivisions there are.\\t\"))\n",
        "\n",
        "axesdict = {} #dictionary of axes(keys) with list of number of subdivisions in each(values)\n",
        "for key in rawaxes:\n",
        "  axesdict[key] = []\n",
        "  for i in range(0,numdivs):\n",
        "    axesdict[key].append(i)"
      ],
      "execution_count": null,
      "outputs": [
        {
          "output_type": "stream",
          "text": [
            "Input data .csv file name or path to file.\tdata.csv\n",
            "Please input the integer value of how many subdivisions there are.\t12\n"
          ],
          "name": "stdout"
        }
      ]
    },
    {
      "cell_type": "markdown",
      "metadata": {
        "id": "k_1k-fdiSsdR"
      },
      "source": [
        "Creating Graphing Specification File"
      ]
    },
    {
      "cell_type": "code",
      "metadata": {
        "id": "7Hn_F9rI8EMW",
        "colab": {
          "base_uri": "https://localhost:8080/"
        },
        "outputId": "8fef43ef-368f-439a-8e20-a55c24862023"
      },
      "source": [
        "cb = input(\"Please name the file for the overall graphing information.\\nEnd the file name with \\\".txt\\\".\\t\")\n",
        "cb = re.sub(\" \", \"_\", cb)\n",
        "cb = re.sub(\"\\\"\", \"\", cb)\n",
        "basictxt = open(cb, \"w+\") #txt document for basic set-up\n",
        "\n",
        "colourcount = 0\n",
        "for each in rawaxes.keys():\n",
        "  basictxt.write(\"chr\\t-\\t\"+ str(each) +\"\\t\"+ str(rawaxes[each]) +\"\\t0\\t\"+ str(numdivs) +\"000000\\t\"+ colour(colourcount) +\"\\n\")\n",
        "  colourcount = 1+colourcount\n",
        "basictxt.close()"
      ],
      "execution_count": null,
      "outputs": [
        {
          "output_type": "stream",
          "text": [
            "Please name the file for the overall graphing information.\n",
            "End the file name with \".txt\".\ttest.txt\n"
          ],
          "name": "stdout"
        }
      ]
    },
    {
      "cell_type": "markdown",
      "metadata": {
        "id": "JP0VhUSJU0Qj"
      },
      "source": [
        "Definition of Data Formatting"
      ]
    },
    {
      "cell_type": "code",
      "metadata": {
        "id": "i9FANcg1uebJ"
      },
      "source": [
        "def graphtxt(column):#takes in column number to make txt file\n",
        "  histogram = \"histogram\"+ str(column) +\".txt\"\n",
        "  histtxt = open(histogram, \"w+\") #txt document for basic set-up\n",
        "  \n",
        "\n",
        "  coldata = {}\n",
        "  for keys in rawaxes:\n",
        "    for i in range(0,numdivs):\n",
        "      if i<9:\n",
        "        coldata[str(rawaxes[keys])+\"-0\"+str(i+1)] = 0\n",
        "      else:\n",
        "        coldata[str(rawaxes[keys])+\"-\"+str(i+1)] = 0\n",
        "\n",
        "  for each1 in coldata.keys():\n",
        "    for each2 in rawdict.keys():\n",
        "      if each1 == each2:\n",
        "        coldata[each1] = rawdict[each2][column-1]\n",
        "      \n",
        "  for keys in rawaxes:\n",
        "    for i in range(0,numdivs):\n",
        "      if i<9:\n",
        "        histtxt.write(str(keys) +\"\\t\"+ str(i*1000000) +\"\\t\"+ \n",
        "                      str(i*1000000+999999) +\"\\t\"+ \n",
        "                      str(coldata[str(rawaxes[keys])+\"-0\"+str(i+1)]) +\"\\n\")\n",
        "      else:\n",
        "        histtxt.write(str(keys) +\"\\t\"+ str(i*1000000) +\"\\t\"+ \n",
        "                      str(i*1000000+999999) +\"\\t\"+ \n",
        "                      str(coldata[str(rawaxes[keys])+\"-\"+str(i+1)]) +\"\\n\")\n",
        "  histtxt.close()"
      ],
      "execution_count": null,
      "outputs": []
    },
    {
      "cell_type": "markdown",
      "metadata": {
        "id": "ltw98MHeU_Ps"
      },
      "source": [
        "Formatting Data for Histogram"
      ]
    },
    {
      "cell_type": "code",
      "metadata": {
        "id": "iiKxR-1D6Sfm"
      },
      "source": [
        "for i in range(1, ncol):\n",
        "  graphtxt(i)"
      ],
      "execution_count": null,
      "outputs": []
    },
    {
      "cell_type": "code",
      "metadata": {
        "id": "zqTkrO9AB6b8"
      },
      "source": [
        ""
      ],
      "execution_count": null,
      "outputs": []
    }
  ]
}